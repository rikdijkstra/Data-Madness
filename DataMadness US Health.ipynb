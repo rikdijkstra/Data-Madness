{
 "cells": [
  {
   "cell_type": "code",
   "execution_count": null,
   "metadata": {},
   "outputs": [],
   "source": [
    "import pandas as pd\n",
    "import numpy as np\n",
    "import matplotlib.pyplot as plt\n",
    "import seaborn as sns\n",
    "\n",
    "df = pd.read_csv(\"data/hius.csv\")\n",
    "df_2 = pd.read_csv(\"data/quickcharts_hius.csv\")\n",
    "\n",
    "#the first row is the description of the column so we should drop that as well\n",
    "df = df.drop(0, axis=0)\n",
    "df.head()"
   ]
  },
  {
   "cell_type": "code",
   "execution_count": null,
   "metadata": {},
   "outputs": [],
   "source": [
    "df_2 = df_2.drop(0, axis=0)\n",
    "df_2.head()"
   ]
  },
  {
   "cell_type": "code",
   "execution_count": null,
   "metadata": {},
   "outputs": [],
   "source": [
    "# the difference between the two datasets\n",
    "list(set(df.columns) - set(df_2.columns))"
   ]
  },
  {
   "cell_type": "code",
   "execution_count": null,
   "metadata": {},
   "outputs": [],
   "source": [
    "for column in df.columns:\n",
    "    print(\"{} has values:\\n{}\\n\".format(column, df[column].unique()))\n",
    "    print(\"-\"*100)"
   ]
  },
  {
   "cell_type": "code",
   "execution_count": null,
   "metadata": {},
   "outputs": [],
   "source": [
    "#figuring out how many nans per column\n",
    "print(df.shape)\n",
    "df.isna().sum()"
   ]
  },
  {
   "cell_type": "code",
   "execution_count": null,
   "metadata": {},
   "outputs": [],
   "source": [
    "#separating diseases\n",
    "\n",
    "disList = df['GHO (CODE)'].unique()\n",
    "\n",
    "diseases = []\n",
    "for i in disList:\n",
    "    tempDis = df[df['GHO (CODE)'] == i]\n",
    "    diseases.append(tempDis)\n",
    "    \n",
    "#nan values for each disease df\n",
    "for i in range(len(diseases)):\n",
    "    print(diseases[i].head())\n",
    "\n",
    "# for i in diseases[1]:\n",
    "    \n",
    "#     x = i.values[:, :-1]\n",
    "\n",
    "#     nan_count = i.isna().sum()\n",
    "#     nan_percentage = [count / x.shape[0] for count in nan_count]\n",
    "#     columns = i.columns\n",
    "\n",
    "#     threshold = 0.6\n",
    "\n",
    "#     # And let's plot those\n",
    "#     fig1 = plt.figure(figsize=(30,15))\n",
    "#     ax = fig1.add_subplot(111)\n",
    "#     plt.axhline(y=threshold,linewidth=1, color=\"k\")\n",
    "#     ax.bar(columns, nan_percentage)\n",
    "#     plt.xticks(rotation=90)\n",
    "#     ax.set_xlabel('Column')\n",
    "#     ax.set_ylabel('NaN Count')\n",
    "#     ax.set_title('Columns with missing values')\n",
    "    "
   ]
  },
  {
   "cell_type": "markdown",
   "metadata": {},
   "source": [
    "### Conclusion:\n",
    "\n",
    "The set is as good as complete, but some columns only apply to some diseases/conditions\n",
    "So, we will remove all unimportant columns for each disease."
   ]
  },
  {
   "cell_type": "code",
   "execution_count": null,
   "metadata": {},
   "outputs": [],
   "source": [
    "for k in range(len(diseases)):\n",
    "    i = diseases[k]\n",
    "    x = i.values[:, :-1]\n",
    "\n",
    "    nan_count = i.isna().sum()\n",
    "    nan_percentage = [count / x.shape[0] for count in nan_count]\n",
    "    columns = i.columns\n",
    "\n",
    "    threshold = 0.6\n",
    "\n",
    "    too_much_cols = []\n",
    "    for j in range(len(columns)):\n",
    "        if nan_percentage[j] >= threshold:\n",
    "            too_much_cols.append(columns[j])\n",
    "    diseases[k].drop(too_much_cols, axis=1, inplace=True)\n",
    "    \n",
    "diseases[0].head()"
   ]
  },
  {
   "cell_type": "code",
   "execution_count": null,
   "metadata": {},
   "outputs": [],
   "source": [
    "print(diseases[0].dtypes)"
   ]
  },
  {
   "cell_type": "markdown",
   "metadata": {},
   "source": [
    "All values are objects, change to numeric values."
   ]
  },
  {
   "cell_type": "code",
   "execution_count": null,
   "metadata": {},
   "outputs": [],
   "source": [
    "for i in range(len(diseases)):\n",
    "    for index, row in diseases[i].iterrows():\n",
    "        if type(row['YEAR (CODE)']) == str:\n",
    "            split_years = row['YEAR (CODE)'].split('-')\n",
    "            if len(split_years) > 1:\n",
    "                diseases[i].loc[index, 'YEAR (CODE)'] = int((int(split_years[0]) + int(split_years[1]))/2)           \n",
    "    diseases[i]['YEAR (CODE)'].astype(int)"
   ]
  },
  {
   "cell_type": "code",
   "execution_count": null,
   "metadata": {},
   "outputs": [],
   "source": [
    "print(diseases[0].iloc[0]['GHO (DISPLAY)'])\n",
    "plt.plot(diseases[0]['YEAR (CODE)'], diseases[0]['Display Value'].astype(int))"
   ]
  },
  {
   "cell_type": "code",
   "execution_count": null,
   "metadata": {},
   "outputs": [],
   "source": []
  }
 ],
 "metadata": {
  "kernelspec": {
   "display_name": "Python 3",
   "language": "python",
   "name": "python3"
  },
  "language_info": {
   "codemirror_mode": {
    "name": "ipython",
    "version": 3
   },
   "file_extension": ".py",
   "mimetype": "text/x-python",
   "name": "python",
   "nbconvert_exporter": "python",
   "pygments_lexer": "ipython3",
   "version": "3.7.4"
  }
 },
 "nbformat": 4,
 "nbformat_minor": 4
}
